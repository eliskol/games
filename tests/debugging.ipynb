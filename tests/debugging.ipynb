{
 "cells": [
  {
   "cell_type": "code",
   "execution_count": null,
   "metadata": {},
   "outputs": [],
   "source": [
    "import sys\n",
    "sys.path.insert(1, sys.path[0].replace('tests', 'games/connect-four'))\n",
    "from connect_four_recombining_tree_custom_depth import *\n",
    "from heuristic_minimax_strategy import HeuristicMinimaxStrategy\n",
    "from predefined_strat import PredefinedStrat\n",
    "from connect_four import Game"
   ]
  },
  {
   "cell_type": "code",
   "execution_count": null,
   "metadata": {},
   "outputs": [],
   "source": [
    "predefined = PredefinedStrat([i % 7 for i in range(100)])\n",
    "bruh2 = HeuristicMinimaxStrategy(2)\n",
    "bruh3 = HeuristicMinimaxStrategy(5)"
   ]
  },
  {
   "cell_type": "code",
   "execution_count": null,
   "metadata": {},
   "outputs": [],
   "source": [
    "# print(len(bruh3.node_dict))\n",
    "game = Game(predefined, bruh2)\n",
    "game.run(log=True)\n",
    "# bruh.terminal_nodes = sorted(bruh.terminal_nodes, key=lambda node: node.minimax_value)\n",
    "# for node in bruh.terminal_nodes:\n",
    "#     print(node.minimax_value)\n",
    "#     for row in reversed(node.state):\n",
    "#         print(row)\n",
    "#     print()"
   ]
  },
  {
   "cell_type": "code",
   "execution_count": null,
   "metadata": {},
   "outputs": [],
   "source": [
    "for state in bruh2.node_dict:\n",
    "    node2 = bruh2.node_dict[state]\n",
    "    node3 = bruh3.node_dict[state]\n",
    "    print((node2.minimax_value, node3.minimax_value)\n",
    "          if node2.minimax_value != node3.minimax_value else \"same\")"
   ]
  }
 ],
 "metadata": {
  "language_info": {
   "name": "python"
  },
  "orig_nbformat": 4
 },
 "nbformat": 4,
 "nbformat_minor": 2
}
